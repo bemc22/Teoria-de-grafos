{
 "cells": [
  {
   "cell_type": "markdown",
   "metadata": {},
   "source": [
    "## MATEMÁTICAS DISCRETAS: Teoría de Grafos\n",
    "\n",
    "## Notebook 3: Single Source Shortest Path\n",
    "\n",
    "1. Determinar las rutas más cortas entre la empresa y sus clientes usando el algoritmo de Dijkstra..\n",
    "\n",
    "### Librerias\n",
    "Las librerias que usaremos seran:\n",
    "\n",
    "**math** : Calcular la distancia entre los nodos y realizar otras operaciones aritmeticas.\n",
    "\n",
    "**matplotlib** y **networkx** : Representar las rutas más cortas"
   ]
  },
  {
   "cell_type": "code",
   "execution_count": 1,
   "metadata": {},
   "outputs": [],
   "source": [
    "import math\n",
    "import matplotlib.pyplot as plt\n",
    "import networkx as nx"
   ]
  },
  {
   "cell_type": "markdown",
   "metadata": {},
   "source": [
    "### Clases\n",
    "\n",
    "Usaremos la clase **Nodo** para almacenar el nombre del vertice y su posicion en el plano cartesiano *XY*"
   ]
  },
  {
   "cell_type": "code",
   "execution_count": 2,
   "metadata": {},
   "outputs": [],
   "source": [
    "class Nodo:\n",
    "    def __init__(self,nombre,x,y):\n",
    "        self.nombre = nombre\n",
    "        self.x = x\n",
    "        self.y = y\n",
    "        self.adyacentes = []"
   ]
  },
  {
   "cell_type": "markdown",
   "metadata": {},
   "source": [
    "### Funciones\n",
    "* **calcularPeso :** Usaremos esta funcón para calcular el peso de las aristas"
   ]
  },
  {
   "cell_type": "code",
   "execution_count": 3,
   "metadata": {},
   "outputs": [],
   "source": [
    "def calcularPeso(nodoA, nodoB):\n",
    "    deltaX = (nodoA.x - nodoB.x)*100\n",
    "    deltaY = (nodoA.y - nodoB.y)*100\n",
    "    distancia = math.sqrt(  pow(deltaX,2) + pow(deltaY,2)  )\n",
    "    return distancia"
   ]
  },
  {
   "cell_type": "markdown",
   "metadata": {},
   "source": [
    "* **mostrarRuta**: Usaremos esta función para obtener la ruta desde J hasta el nodo ingresado"
   ]
  },
  {
   "cell_type": "code",
   "execution_count": 4,
   "metadata": {},
   "outputs": [],
   "source": [
    "def mostrarRuta(nodo):\n",
    "    x = caminos[nodo]\n",
    "    if x == \"J\":\n",
    "        return [\"J\"]\n",
    "    else:\n",
    "        return [x] + mostrarRuta(x)"
   ]
  },
  {
   "cell_type": "markdown",
   "metadata": {},
   "source": [
    "### Estructuras de datos iniciales"
   ]
  },
  {
   "cell_type": "code",
   "execution_count": 5,
   "metadata": {},
   "outputs": [],
   "source": [
    "# Declaracion de la matriz vertices en donde se encuentran la posiciones de nuestro nodos  \n",
    "vertices = [         \n",
    "    [\"A\", 2,  1 ],\n",
    "    [\"B\", 19, 1 ],\n",
    "    [\"C\", 5,  2 ],\n",
    "    [\"D\", 11, 3 ],\n",
    "    [\"E\", 18, 5 ],\n",
    "    [\"F\", 4,  6 ],\n",
    "    [\"G\", 12, 7 ],\n",
    "    [\"H\", 20, 8 ],\n",
    "    [\"I\", 16, 10],\n",
    "    [\"J\", 10, 10],\n",
    "    [\"K\", 7,  11],\n",
    "    [\"L\", 5,  13],\n",
    "    [\"M\", 11, 13],           \n",
    "    [\"N\", 19, 14],\n",
    "    [\"O\", 16, 16],\n",
    "    [\"P\", 4,  17],\n",
    "    [\"Q\", 9,  17],\n",
    "    [\"R\", 11, 19],\n",
    "    [\"S\", 1,  20],\n",
    "    [\"T\", 20, 20] \n",
    "]\n",
    "\n",
    "# Declaracion de la matriz adyacencia en donde esta las relaciones de adyacencia de nuestros nodos\n",
    "adyacencia = [    \n",
    "    [0 , 1 , 1 , 0 , 0 , 1 , 1 , 0 , 0 , 0 , 0 , 0 , 0 , 0 , 0 , 0 , 0 , 0 , 0 , 0],\n",
    "    [1 , 0 , 0 , 1 , 1 , 0 , 1 , 1 , 0 , 0 , 0 , 0 , 0 , 0 , 0 , 0 , 0 , 0 , 0 , 0],\n",
    "    [1 , 0 , 0 , 1 , 0 , 1 , 1 , 0 , 0 , 0 , 0 , 0 , 0 , 0 , 0 , 0 , 0 , 0 , 0 , 0],\n",
    "    [0 , 1 , 1 , 0 , 1 , 1 , 1 , 1 , 0 , 1 , 1 , 0 , 0 , 0 , 0 , 0 , 0 , 0 , 0 , 0],\n",
    "    [0 , 1 , 0 , 1 , 0 , 0 , 1 , 1 , 1 , 0 , 0 , 0 , 0 , 0 , 0 , 0 , 0 , 0 , 0 , 0],\n",
    "    [1 , 0 , 1 , 1 , 0 , 0 , 0 , 0 , 0 , 0 , 1 , 1 , 0 , 0 , 0 , 0 , 0 , 0 , 1 , 0],\n",
    "    [1 , 1 , 1 , 1 , 1 , 0 , 0 , 1 , 1 , 1 , 0 , 0 , 0 , 0 , 0 , 0 , 0 , 0 , 0 , 0],\n",
    "    [0 , 1 , 0 , 1 , 1 , 0 , 1 , 0 , 1 , 0 , 0 , 0 , 0 , 0 , 0 , 0 , 0 , 0 , 0 , 0],\n",
    "    [0 , 0 , 0 , 0 , 1 , 0 , 1 , 1 , 0 , 0 , 0 , 0 , 1 , 1 , 1 , 0 , 0 , 0 , 0 , 0],\n",
    "    [0 , 0 , 0 , 1 , 0 , 0 , 1 , 0 , 0 , 0 , 1 , 0 , 1 , 1 , 1 , 0 , 1 , 0 , 0 , 0],\n",
    "    [0 , 0 , 0 , 1 , 0 , 1 , 0 , 0 , 0 , 1 , 0 , 1 , 0 , 0 , 0 , 0 , 1 , 0 , 0 , 0],\n",
    "    [0 , 0 , 0 , 0 , 0 , 1 , 0 , 0 , 0 , 0 , 1 , 0 , 1 , 0 , 1 , 1 , 1 , 0 , 0 , 0],\n",
    "    [0 , 0 , 0 , 0 , 0 , 0 , 0 , 0 , 1 , 1 , 0 , 1 , 0 , 0 , 0 , 1 , 1 , 1 , 0 , 0],\n",
    "    [0 , 0 , 0 , 0 , 0 , 0 , 0 , 0 , 1 , 1 , 0 , 0 , 0 , 0 , 1 , 0 , 0 , 0 , 0 , 1],\n",
    "    [0 , 0 , 0 , 0 , 0 , 0 , 0 , 0 , 1 , 1 , 0 , 1 , 0 , 1 , 0 , 0 , 1 , 1 , 0 , 1],\n",
    "    [0 , 0 , 0 , 0 , 0 , 0 , 0 , 0 , 0 , 0 , 0 , 1 , 1 , 0 , 0 , 0 , 1 , 0 , 1 , 0],\n",
    "    [0 , 0 , 0 , 0 , 0 , 0 , 0 , 0 , 0 , 1 , 1 , 1 , 1 , 0 , 1 , 1 , 0 , 0 , 1 , 0],\n",
    "    [0 , 0 , 0 , 0 , 0 , 0 , 0 , 0 , 0 , 0 , 0 , 0 , 1 , 0 , 1 , 0 , 0 , 0 , 1 , 1],\n",
    "    [0 , 0 , 0 , 0 , 0 , 1 , 0 , 0 , 0 , 0 , 0 , 0 , 0 , 0 , 0 , 1 , 1 , 1 , 0 , 1],\n",
    "    [0 , 0 , 0 , 0 , 0 , 0 , 0 , 0 , 0 , 0 , 0 , 0 , 0 , 1 , 1 , 0 , 0 , 1 , 1 , 0],            \n",
    "]"
   ]
  },
  {
   "cell_type": "markdown",
   "metadata": {},
   "source": [
    "### Arreglos nodos[ ] y aristas[ ] \n",
    "* **nodos :** Almacenan los nodos de nuestro grafo\n",
    "* **aristas :** Almacenan las aristas de nuestro grafo con sus respectivos pesos"
   ]
  },
  {
   "cell_type": "code",
   "execution_count": 6,
   "metadata": {},
   "outputs": [],
   "source": [
    "# Haciendo uso de la matriz vertices y la clase Nodo\n",
    "# Creamos un objeto Nodo el cual almacenara el nombre del vertice y sus coordenadas\n",
    "nodos = []\n",
    "for i in range(0,len(vertices)):\n",
    "    nombre = vertices[i][0]\n",
    "    x = vertices[i][1]\n",
    "    y = vertices[i][2]    \n",
    "    newNodo = Nodo(nombre,x,y)\n",
    "    nodos.append(newNodo)\n",
    "    \n",
    "# Haciendo uso de nuestro arreglo de nodos y la matriz de adyacencia\n",
    "# Agregamos las aritas de nuestro grafo a un arreglo de aristas con sus respectivos pesos\n",
    "# Simultaneamente tambien agregamos a cada objeto Nodo sus Nodos adyacentes\n",
    "aristas = []\n",
    "for i in range(0, 20):    \n",
    "    for j in range (0,20):\n",
    "        if i < j:\n",
    "            if(adyacencia[i][j] == 1):\n",
    "                # Aqui creamos las aristas con sus pesos\n",
    "                a = nodos[i].nombre\n",
    "                b = nodos[j].nombre                \n",
    "                c = calcularPeso(nodos[i],nodos[j])\n",
    "                c = round(c,2)\n",
    "                aristas.append( [a,b,c] )   \n",
    "                \n",
    "                # Aqui agregamos los Nodos adyacentes a cada Nodo perteneciente a nuestro arreglo nodos\n",
    "                nodos[i].adyacentes.append(nodos[j])\n",
    "                nodos[j].adyacentes.append(nodos[i])"
   ]
  },
  {
   "cell_type": "markdown",
   "metadata": {},
   "source": [
    "# Derterminación de las rutas más cortas\n",
    "\n",
    "Para determinar las rutas más cortas haremos uso de dos algoritmos, **Dijkstra** como algoritmos principal y **HeapSort** como algoritmo utilizado para ordenar la cola de prioridad.\n",
    "\n",
    "\n",
    "## Algoritmo de Dijkstra\n",
    "### Procedimiento\n",
    "* Inicializar todas las distancias en D con un valor infinito relativo, ya que son desconocidas al principio, exceptuando la de x, que se debe colocar en 0, debido a que la distancia de x a x sería 0.\n",
    "* Sea a = x (Se toma a como nodo actual.)\n",
    "* Se recorren todos los nodos adyacentes de a, excepto los nodos marcados. Se les llamará nodos no marcados vi.\n",
    "* Para el nodo actual, se calcula la distancia tentativa desde dicho nodo hasta sus vecinos con la siguiente fórmula: dt(vi) = Da + d(a,vi). Es decir, la distancia tentativa del nodo ‘vi’ es la distancia que actualmente tiene el nodo en el vector D más la distancia desde dicho nodo ‘a’ (el actual) hasta el nodo vi. Si la distancia tentativa es menor que la distancia almacenada en el vector, entonces se actualiza el vector con esta distancia tentativa. Es decir, si dt(vi) < Dvi → Dvi = dt(vi)\n",
    "* Se marca como completo el nodo a.\n",
    "* Se toma como próximo nodo actual el de menor valor en D (puede hacerse almacenando los valores en una cola de prioridad) y se regresa al paso 3, mientras existan nodos no marcados.\n",
    "\n",
    "Una vez terminado el algoritmo, D estará completamente lleno.\n",
    "\n",
    "### Implementación de HeapSort"
   ]
  },
  {
   "cell_type": "code",
   "execution_count": 7,
   "metadata": {},
   "outputs": [],
   "source": [
    "def heapify(arr, n, i,index): \n",
    "    menor = i  # menor sera la raiz \n",
    "    l = 2 * i + 1     # left = 2*i + 1 \n",
    "    r = 2 * i + 2     # right = 2*i + 2 \n",
    "  \n",
    "    # Vemos si el hijo de la izquierda de la raiz existe,\n",
    "    # y si es mayor que la raiz\n",
    "    if l < n and arr[i] < arr[l]: \n",
    "        menor = l \n",
    "  \n",
    "    # Vemos si el hijo de la dereacha de la raiz existe\n",
    "    # y si es mayor que la raiz\n",
    "    if r < n and arr[menor] < arr[r]: \n",
    "        menor = r \n",
    "  \n",
    "    # Si la raiz no es la menor entramos\n",
    "    if menor != i: \n",
    "        arr[i],arr[menor] = arr[menor],arr[i]  # Intercambiamos \n",
    "        index[i],index[menor] = index[menor],index[i]\n",
    "        \n",
    "  \n",
    "        # Heapify en la raiz\n",
    "        heapify(arr, n, menor,index) \n",
    "\n",
    "# Funcion principal\n",
    "def heapSort(arr,index): \n",
    "    n = len(arr)   \n",
    "    # Construimos el minHeap\n",
    "    for i in range(n, -1, -1): \n",
    "        heapify(arr, n, i,index) \n",
    "\n",
    "    # Uno por uno extraemos elementos\n",
    "    for i in range(n-1, 0, -1): \n",
    "        arr[i], arr[0] = arr[0], arr[i]   # Intercambiamos      \n",
    "        index[i],index[0] = index[0],index[i]\n",
    "        heapify(arr, i, 0,index) "
   ]
  },
  {
   "cell_type": "markdown",
   "metadata": {},
   "source": [
    "### Implementación Dijkstra"
   ]
  },
  {
   "cell_type": "code",
   "execution_count": 8,
   "metadata": {},
   "outputs": [],
   "source": [
    "def Dijkstra(grafo,sNode):\n",
    "    infinito = float(\"inf\")\n",
    "    \n",
    "    estado = {}      # Almacena si cada nodo ha sido visitado\n",
    "    distancia = {}   # Almacena la distancia del nodo raiz a cada nodo en numero de aristas\n",
    "    padre = {}       # Almacena el nodo padre de cada nodo\n",
    "    adyacencia = []  # Almacena los nodos adyacentes del nodo iterado\n",
    "    \n",
    "    # Valores iniciales de cada nodo del grado\n",
    "    for uNode in grafo:\n",
    "        distancia[uNode] = infinito\n",
    "        padre[uNode] = None\n",
    "        estado[uNode] = False\n",
    "     \n",
    "    # Valores iniciales del Nodo raiz\n",
    "    distancia[sNode] = 0\n",
    "    # Agregamos el Nodo raiz y su distancia al nodo raiz\n",
    "    # a la cola de prioridad (en este caso la distancia sera siempre 0)    \n",
    "    cola = [[sNode],[distancia[sNode]]] \n",
    "    \n",
    "    # El bucle se ejecutara siempre que la cola siga teniendo elementos\n",
    "    while cola[0]:    \n",
    "        heapSort(cola[1],cola[0]) # Cada vez que entramos ordenamos la cola de menor a mayor\n",
    "        uNode = cola[0].pop(0)    # Extraemos el primer elemento de la cola Nodos \n",
    "                                  # Lo guardamos en uNode\n",
    "        borrar = cola[1].pop(0)   # Extraemos el primer elemento de la cola Distancias\n",
    "\n",
    "        adyacencia = grafo[uNode] # Guardamos los nodos adyacentes de uNode\n",
    "        estado[uNode] = True      # Ahora uNode ya ha sido visitado\n",
    "        for vNode in adyacencia:  # Pasamos por todos los nodos adyacentes de uNode\n",
    "            # Si la distancia de vNode a la raiz es mayor que\n",
    "            # la distancia que hay desde la raiz a uNode + la distancia entre uNode y vNode\n",
    "            # Entramos\n",
    "            if distancia[vNode] > distancia[uNode] + calcularPeso(uNode,vNode):\n",
    "                # Ahora asignamos la distancia nueva de vNode al nodo Raiz\n",
    "                distancia[vNode] = distancia[uNode] + calcularPeso(uNode,vNode)\n",
    "                # El padre de vNode sera uNode\n",
    "                padre[vNode] = uNode \n",
    "                # Agregamos vNode y su distancia a la colad e prioridad\n",
    "                cola[0].append(vNode)\n",
    "                cola[1].append(distancia[vNode])\n",
    "                \n",
    "                   \n",
    "    # Retornamos el diccionario padre, nos seriva para graficar las rutas\n",
    "    return padre    \n",
    "   "
   ]
  },
  {
   "cell_type": "markdown",
   "metadata": {},
   "source": [
    "**Creacion de nuestro diccionario grafo**\n",
    "\n",
    "A diferencia del diccionario **grafo** implementado en ***notebook1.ipynb*** en esta notebook almacenaremos los indice e items del diccionario como objetos *Nodo* en vez de simplemente sus etiquetas, decidimos realizar este cambio debido a que la funcion **Dijkstra** llama al metodo **calcularPeso()** y este recibe como parametros dos objetos de tipo Nodo."
   ]
  },
  {
   "cell_type": "code",
   "execution_count": 9,
   "metadata": {},
   "outputs": [],
   "source": [
    "# Almacenamos nuestro grafo en un diccionario para así recorrerlo usando nuestro algoritmo Dijkstra\n",
    "# Cada indice del diccionario hace referencia a un objeto Nodo del grafo \n",
    "# y su items hacen referencia a los Nodos adyacentes a dicho Nodo\n",
    "\n",
    "grafo = {} \n",
    "for node in nodos:\n",
    "    adyacentesNombre = []\n",
    "    for iNode in node.adyacentes:\n",
    "        adyacentesNombre.append(iNode)\n",
    "        \n",
    "    grafo[node] = adyacentesNombre   "
   ]
  },
  {
   "cell_type": "markdown",
   "metadata": {},
   "source": [
    "### Ejecución de Dijkstra"
   ]
  },
  {
   "cell_type": "code",
   "execution_count": 10,
   "metadata": {},
   "outputs": [],
   "source": [
    "dijkstra = Dijkstra(grafo,nodos[9])\n"
   ]
  },
  {
   "cell_type": "markdown",
   "metadata": {},
   "source": [
    "### Estructuras de datos para representar nuestras rutas\n",
    "Antes de iniciar con la representación de las rutas, transcribimos la informacion obtenida de nuestra función *Dijkstra* de tal forma que el grafo implementado por la libreria *nx* pueda entenderlo"
   ]
  },
  {
   "cell_type": "code",
   "execution_count": 11,
   "metadata": {},
   "outputs": [],
   "source": [
    "# Aqui guardamos las rutas como aristas de un nuevo grafo\n",
    "caminos = {} \n",
    "for x in dijkstra:\n",
    "    s = x.nombre\n",
    "    y = dijkstra[x]\n",
    "    # Si este indice no tiene items significa que es el nodo Raiz \n",
    "    # Ya que el nodo Raiz es el padre de todos los nodos y no tiene padre \n",
    "    if y != None:         \n",
    "        caminos[s] = y.nombre    \n",
    "        \n",
    "# Crearemos un diccionario que relacione las etiquetas de los nodos con el respectivo nodo\n",
    "# Esto nos facilitara las asignaciones a la hora de agregar las aristas al grafo\n",
    "jnodos = {}\n",
    "for x in nodos:\n",
    "    a = x.nombre\n",
    "    jnodos[a] = x"
   ]
  },
  {
   "cell_type": "markdown",
   "metadata": {},
   "source": [
    "### Representación del  Single Source Shortest Path\n",
    "\n",
    "De forma similar a la representación de nuestro grafo original presentado en ***notebook1.ipynb*** realizaremos ahora la representación de nuestras rutas mas cortas, solo que ahora usaremos los dicionarios *dijkstra* para asignar las aristas de nuestro arbol, debido a que usaremos las mismas coordenadas crearemos un diccionario *dict* igual al usado en ***notebook1.ipynb***.\n",
    "\n",
    "En este caso podemos dividir la representacion en la siguientes partes:\n",
    "1. Asignación\n",
    "2. Dibujado\n",
    "\n",
    "    **Asignación**\n",
    "    * Creamos un nuevo grafo $G$ usando la libreria *nx*\n",
    "    * Agregamos las aristas almacenadas en el diccionario *dijkstra*\n",
    "    \n",
    "   **Dibujado**\n",
    "    * Ajustar el tamaño del canvas\n",
    "    * Dibujar nodos\n",
    "    * Dibujar aristas\n",
    "    * Dibujar etiquetas de los nodos\n",
    "    * Mostrar el arbol"
   ]
  },
  {
   "cell_type": "markdown",
   "metadata": {},
   "source": [
    "### Asignación"
   ]
  },
  {
   "cell_type": "code",
   "execution_count": 12,
   "metadata": {},
   "outputs": [],
   "source": [
    "# Creacion del grafo\n",
    "G = nx.Graph()\n",
    "\n",
    "# Agregamos las aristas (rutas mas cortas) al grafo\n",
    "for x in caminos:\n",
    "    # Accedemos al nodo que hace referencia cada vertice de la arista\n",
    "    # Con el fin de calcular la distancia entre estas\n",
    "    a = jnodos[caminos[x]]\n",
    "    b = jnodos[x]\n",
    "    c = calcularPeso(a,b)\n",
    "    c = round(c,2)\n",
    "    G.add_edge(caminos[x],x, weight = c)\n",
    "\n",
    "# Diccionario con las posiciones de todos los nodos\n",
    "dict = {}\n",
    "for nodo in vertices:\n",
    "    nombre = nodo[0]\n",
    "    xPos = nodo[1]\n",
    "    yPos = nodo[2]\n",
    "    dict[nombre] = (xPos,yPos)    \n",
    "pos = dict  "
   ]
  },
  {
   "cell_type": "markdown",
   "metadata": {},
   "source": [
    "### Dibujado"
   ]
  },
  {
   "cell_type": "code",
   "execution_count": 13,
   "metadata": {},
   "outputs": [
    {
     "data": {
      "image/png": "[encoded data removed]",
      "text/plain": [
       "<Figure size 1080x1080 with 1 Axes>"
      ]
     },
     "metadata": {},
     "output_type": "display_data"
    }
   ],
   "source": [
    "# Tamaño del Canvas\n",
    "plt.figure(figsize = (15,15))\n",
    "\n",
    "# Se dibujan los nodos\n",
    "val_map = {'J': (1,0.2,0.2)}\n",
    "values = [ val_map.get(node , (0, 0.6, 1)) for node in G.nodes()]\n",
    "nx.draw_networkx_nodes(G, pos, node_size=700,node_color = values)\n",
    "\n",
    "# Se dibujan las aristas\n",
    "nx.draw_networkx_edges(G, pos, width=1)\n",
    "\n",
    "# Se dibujan los nombres de los nodos y el peso de las aristas\n",
    "nx.draw_networkx_labels(G, pos, font_size=15, font_family='sans-serif')\n",
    "edge_labels = nx.get_edge_attributes(G,'weight')\n",
    "nx.draw_networkx_edge_labels(G,pos, edge_labels = edge_labels)\n",
    "\n",
    "plt.axis(\"off\") # Con esta linea ocultamos los ejes de coordenadas\n",
    "plt.show()      # Mostramos todas las llaadas de dibujado realizadas anteriormente"
   ]
  },
  {
   "cell_type": "markdown",
   "metadata": {},
   "source": [
    "### Rutas desde J hasta el resto de Nodos del grafo"
   ]
  },
  {
   "cell_type": "code",
   "execution_count": 14,
   "metadata": {},
   "outputs": [
    {
     "name": "stdout",
     "output_type": "stream",
     "text": [
      "Ruta desde J hasta A || Distancia: 1437.84 metros\n",
      "['J', 'K', 'F', 'A']\n",
      "\n",
      "\n",
      "Ruta desde J hasta B || Distancia: 1282.51 metros\n",
      "['J', 'G', 'B']\n",
      "\n",
      "\n",
      "Ruta desde J hasta C || Distancia: 1220.79 metros\n",
      "['J', 'G', 'C']\n",
      "\n",
      "\n",
      "Ruta desde J hasta D || Distancia: 707.11 metros\n",
      "['J', 'D']\n",
      "\n",
      "\n",
      "Ruta desde J hasta E || Distancia: 993.01 metros\n",
      "['J', 'G', 'E']\n",
      "\n",
      "\n",
      "Ruta desde J hasta F || Distancia: 899.32 metros\n",
      "['J', 'K', 'F']\n",
      "\n",
      "\n",
      "Ruta desde J hasta G || Distancia: 360.56 metros\n",
      "['J', 'G']\n",
      "\n",
      "\n",
      "Ruta desde J hasta H || Distancia: 1166.78 metros\n",
      "['J', 'G', 'H']\n",
      "\n",
      "\n",
      "Ruta desde J hasta I || Distancia: 860.56 metros\n",
      "['J', 'G', 'I']\n",
      "\n",
      "\n",
      "Ruta desde J hasta K || Distancia: 316.23 metros\n",
      "['J', 'K']\n",
      "\n",
      "\n",
      "Ruta desde J hasta L || Distancia: 599.07 metros\n",
      "['J', 'K', 'L']\n",
      "\n",
      "\n",
      "Ruta desde J hasta M || Distancia: 316.23 metros\n",
      "['J', 'M']\n",
      "\n",
      "\n",
      "Ruta desde J hasta N || Distancia: 984.89 metros\n",
      "['J', 'N']\n",
      "\n",
      "\n",
      "Ruta desde J hasta O || Distancia: 848.53 metros\n",
      "['J', 'O']\n",
      "\n",
      "\n",
      "Ruta desde J hasta P || Distancia: 1011.38 metros\n",
      "['J', 'K', 'L', 'P']\n",
      "\n",
      "\n",
      "Ruta desde J hasta Q || Distancia: 707.11 metros\n",
      "['J', 'Q']\n",
      "\n",
      "\n",
      "Ruta desde J hasta R || Distancia: 916.23 metros\n",
      "['J', 'M', 'R']\n",
      "\n",
      "\n",
      "Ruta desde J hasta S || Distancia: 1435.65 metros\n",
      "['J', 'K', 'L', 'P', 'S']\n",
      "\n",
      "\n",
      "Ruta desde J hasta T || Distancia: 1414.21 metros\n",
      "['J', 'O', 'T']\n",
      "\n",
      "\n"
     ]
    }
   ],
   "source": [
    "for i in caminos:\n",
    "    s = [] # arreglo con las rutas\n",
    "    d = 0   # Aqui almacenamos la distancia\n",
    "    # Creamos un arreglo ruta que inicia en el nodo actual y termina en J\n",
    "    ruta = [i] + mostrarRuta(i) \n",
    "    \n",
    "    # recorremos el arreglo ruta en reversa para mostrar primero el nodo raiz J\n",
    "    for j in reversed(ruta):        \n",
    "        s = s + [j]       \n",
    "    \n",
    "    # Calculamos la distancia desde el nodo actual hasta J\n",
    "    for k in range(len(ruta) -1):\n",
    "        a = jnodos[ruta[k]]\n",
    "        b = jnodos[ruta[k+1]]\n",
    "        d = d + calcularPeso(a,b)\n",
    "        \n",
    "    # Mostraremos solo dos cifras significativas    \n",
    "    d = round(d,2)    \n",
    "    print(\"Ruta desde J hasta \" + i + \" || Distancia: \" + str(d) + \" metros\")\n",
    "    print(s)\n",
    "    print(\"\\n\")\n",
    "        "
   ]
  },
  {
   "cell_type": "markdown",
   "metadata": {},
   "source": [
    "*Matematicas Discretas - Universidad Industrial de Santander*\n",
    "\n",
    "* *Brayan Esneider Monroy Chaparro*\n",
    "* *Juan Jose*\n",
    "* *Sebastian Leon*"
   ]
  },
  {
   "cell_type": "code",
   "execution_count": null,
   "metadata": {},
   "outputs": [],
   "source": []
  }
 ],
 "metadata": {
  "kernelspec": {
   "display_name": "Python 3",
   "language": "python",
   "name": "python3"
  },
  "language_info": {
   "codemirror_mode": {
    "name": "ipython",
    "version": 3
   },
   "file_extension": ".py",
   "mimetype": "text/x-python",
   "name": "python",
   "nbconvert_exporter": "python",
   "pygments_lexer": "ipython3",
   "version": "3.6.5"
  }
 },
 "nbformat": 4,
 "nbformat_minor": 2
}
